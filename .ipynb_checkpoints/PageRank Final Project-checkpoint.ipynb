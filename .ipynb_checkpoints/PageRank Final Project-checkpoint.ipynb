{
 "cells": [
  {
   "cell_type": "markdown",
   "metadata": {},
   "source": [
    "# Final Project : Pagerank Implementation\n",
    "### Michael Osmian\n",
    "### Math 443 : Professor Rodriguez"
   ]
  },
  {
   "cell_type": "markdown",
   "metadata": {},
   "source": [
    "* Chapter 12 of \"Matrix Methods in Data Mining and Pattern Recognition\". "
   ]
  },
  {
   "cell_type": "markdown",
   "metadata": {},
   "source": [
    "## Random Surfer Model Implementation"
   ]
  },
  {
   "cell_type": "markdown",
   "metadata": {},
   "source": [
    "### Step 1: Generate Graph to Represent Web\n",
    "Generating a directed graph to represent the web, where the nodes are pages and edges between nodes represent links between pages"
   ]
  },
  {
   "cell_type": "code",
   "execution_count": 21,
   "metadata": {},
   "outputs": [],
   "source": [
    "import networkx as nx\n",
    "import matplotlib.pyplot as plt\n",
    "import numpy as np\n",
    "\n",
    "\n",
    "# DG = nx.DiGraph()\n",
    "# pos = nx.spring_layout(DG,k=0.35,iterations=10)\n",
    "# DG.add_nodes_from(\"ABCDEF\")\n",
    "# DG.add_weighted_edges_from([(\"A\", \"B\", 1),\n",
    "#                             (\"A\", \"D\", 1),\n",
    "#                             (\"A\",\"E\",1),\n",
    "#                             (\"B\",\"A\",1)]) \n",
    "# nx.draw(DG,with_labels=True)\n",
    "# plt.show()\n"
   ]
  },
  {
   "cell_type": "code",
   "execution_count": 34,
   "metadata": {},
   "outputs": [],
   "source": [
    "# import numpy as np\n",
    "# from scipy.linalg import solve\n",
    "# from numpy import linalg as LA\n",
    "# represent as an adjacency list\n",
    "# Since 4 has no outlinks, the matrix column sums to zero\n",
    "Q = np.matrix([[0.0,1/3, 0.0, 0.0, 0.0, 0.0],\n",
    "              [1/3, 0.0,0.0,0.0,0.0,0.0],\n",
    "              [0, 1/3, 0, 0, 1/3, 1/2],\n",
    "              [1/3,0,0,0,1/3,0],\n",
    "              [1/3,1/3,0,0,0,1/2],\n",
    "               [0, 0, 1, 0, 1/3,0]])"
   ]
  },
  {
   "cell_type": "code",
   "execution_count": 35,
   "metadata": {},
   "outputs": [
    {
     "name": "stdout",
     "output_type": "stream",
     "text": [
      "[ 0.          0.92069993  0.33333333 -0.63613504 -0.33333333 -0.28456489]\n",
      "EIGENVALUE:  0.9206999328094083\n",
      "EIGENVECTOR:  [[-7.45199708e-17]\n",
      " [ 2.05882209e-17]\n",
      " [ 5.39365346e-01]\n",
      " [ 1.43368165e-01]\n",
      " [ 3.95997181e-01]\n",
      " [ 7.29189156e-01]]\n"
     ]
    }
   ],
   "source": [
    "# The eigenvalue w[0] goes with the 0th column of v. The eigenvalue w[1] goes with column 1, etc.\n",
    "# To extract the ith column vector, we use\n",
    "# u = v[:,i]\n",
    "w, v = np.linalg.eig(Q)\n",
    "print(w)\n",
    "print(\"EIGENVALUE: \",w[1])\n",
    "print(\"EIGENVECTOR: \",v[:,1])"
   ]
  },
  {
   "cell_type": "code",
   "execution_count": 39,
   "metadata": {},
   "outputs": [
    {
     "data": {
      "text/plain": [
       "matrix([[0.        , 0.        , 0.        , 0.33333333],\n",
       "        [1.        , 0.        , 1.        , 0.33333333],\n",
       "        [0.        , 1.        , 0.        , 0.33333333],\n",
       "        [0.        , 0.        , 1.        , 0.33333333]])"
      ]
     },
     "execution_count": 39,
     "metadata": {},
     "output_type": "execute_result"
    }
   ],
   "source": [
    "Q = np.matrix([\n",
    "    [0,0,0,0],\n",
    "    [1,0,1,0],\n",
    "    [0,1,0,0],\n",
    "    [0,0,1,0]\n",
    "])\n",
    "e = np.matrix([\n",
    "    [1],\n",
    "    [1],\n",
    "    [1],\n",
    "    [1]\n",
    "])\n",
    "d = np.matrix([\n",
    "    [0],\n",
    "    [0],\n",
    "    [0],\n",
    "    [1]\n",
    "])\n",
    "Q\n",
    "P = Q + (1/3)*e*d.T\n",
    "P"
   ]
  },
  {
   "cell_type": "code",
   "execution_count": null,
   "metadata": {},
   "outputs": [],
   "source": []
  }
 ],
 "metadata": {
  "kernelspec": {
   "display_name": "Python 3",
   "language": "python",
   "name": "python3"
  },
  "language_info": {
   "codemirror_mode": {
    "name": "ipython",
    "version": 3
   },
   "file_extension": ".py",
   "mimetype": "text/x-python",
   "name": "python",
   "nbconvert_exporter": "python",
   "pygments_lexer": "ipython3",
   "version": "3.6.5"
  }
 },
 "nbformat": 4,
 "nbformat_minor": 2
}
